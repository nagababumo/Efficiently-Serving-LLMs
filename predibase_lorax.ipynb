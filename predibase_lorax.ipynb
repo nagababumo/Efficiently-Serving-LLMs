{
 "cells": [
  {
   "cell_type": "markdown",
   "id": "095c2c45",
   "metadata": {},
   "source": [
    "## Lesson 7 - LoRAX\n",
    "\n",
    "In this lesson, we explore how to efficiently Serve LLMs using LoRAX!"
   ]
  },
  {
   "cell_type": "code",
   "execution_count": 1,
   "id": "c1b1de77",
   "metadata": {
    "height": 183
   },
   "outputs": [],
   "source": [
    "import asyncio\n",
    "import json\n",
    "import time\n",
    "from typing import List\n",
    "\n",
    "import matplotlib.pyplot as plt\n",
    "from tqdm.notebook import tqdm\n",
    "from pydantic import BaseModel, constr\n",
    "\n",
    "from lorax import AsyncClient, Client"
   ]
  },
  {
   "cell_type": "code",
   "execution_count": 2,
   "id": "4686ef7f",
   "metadata": {
    "height": 30
   },
   "outputs": [],
   "source": [
    "from utils import endpoint_url, headers"
   ]
  },
  {
   "cell_type": "code",
   "execution_count": 3,
   "id": "aeceb612",
   "metadata": {
    "height": 30
   },
   "outputs": [],
   "source": [
    "client = Client(endpoint_url, headers=headers)"
   ]
  },
  {
   "cell_type": "markdown",
   "id": "a838efbc",
   "metadata": {},
   "source": [
    "## Prefill vs Decode (KV Cache)"
   ]
  },
  {
   "cell_type": "code",
   "execution_count": 4,
   "id": "1e6100dc",
   "metadata": {
    "height": 132
   },
   "outputs": [
    {
     "name": "stdout",
     "output_type": "stream",
     "text": [
      "\n",
      "\n",
      "Deep learning is a subset of machine learning that uses artificial neural networks to learn from data. It is a powerful tool that can be used to solve complex\n",
      "\n",
      "\n",
      "----------\n",
      "Request duration (s): 0.7536032199859619\n"
     ]
    }
   ],
   "source": [
    "t0 = time.time()\n",
    "resp = client.generate(\"What is deep learning?\", max_new_tokens=32)\n",
    "duration_s = time.time() - t0\n",
    "\n",
    "print(resp.generated_text)\n",
    "print(\"\\n\\n----------\")\n",
    "print(\"Request duration (s):\", duration_s)"
   ]
  },
  {
   "cell_type": "code",
   "execution_count": 5,
   "id": "aa960b0d",
   "metadata": {
    "height": 236
   },
   "outputs": [
    {
     "name": "stdout",
     "output_type": "stream",
     "text": [
      "\n",
      "\n",
      "Deep learning is a subset of machine learning that uses artificial neural networks to learn from data. It is a powerful tool that can be used to solve complex\n",
      "\n",
      "\n",
      "----------\n",
      "Time to first token (TTFT) (s): 0.32323384284973145\n",
      "Throughput (tok / s): 63.82977603712064\n"
     ]
    }
   ],
   "source": [
    "durations_s = []\n",
    "\n",
    "t0 = time.time()\n",
    "for resp in client.generate_stream(\"What is deep learning?\", max_new_tokens=32):\n",
    "    durations_s.append(time.time() - t0)\n",
    "    if not resp.token.special:\n",
    "        print(resp.token.text, sep=\"\", end=\"\", flush=True)\n",
    "    t0 = time.time()\n",
    "\n",
    "print(\"\\n\\n\\n----------\")\n",
    "print(\"Time to first token (TTFT) (s):\", durations_s[0])\n",
    "print(\"Throughput (tok / s):\", (len(durations_s) - 1) / sum(durations_s[1:]))"
   ]
  },
  {
   "cell_type": "code",
   "execution_count": 6,
   "id": "cc2ec81c",
   "metadata": {
    "height": 47
   },
   "outputs": [
    {
     "data": {
      "image/png": "[encoded data removed]",
      "text/plain": [
       "<Figure size 640x480 with 1 Axes>"
      ]
     },
     "metadata": {},
     "output_type": "display_data"
    }
   ],
   "source": [
    "plt.plot(durations_s)\n",
    "plt.show()"
   ]
  },
  {
   "cell_type": "markdown",
   "id": "af60d44b",
   "metadata": {},
   "source": [
    "## Continuous Batching"
   ]
  },
  {
   "cell_type": "code",
   "execution_count": 7,
   "id": "9477d603",
   "metadata": {
    "height": 166
   },
   "outputs": [],
   "source": [
    "color_codes = [\n",
    "    \"31\",  # red\n",
    "    \"32\",  # green\n",
    "    \"34\",  # blue\n",
    "]\n",
    "\n",
    "\n",
    "def format_text(text, i):\n",
    "    return f\"\\x1b[{color_codes[i]}m{text}\\x1b[0m\""
   ]
  },
  {
   "cell_type": "code",
   "execution_count": 8,
   "id": "a9cdf83c",
   "metadata": {
    "height": 406
   },
   "outputs": [
    {
     "name": "stdout",
     "output_type": "stream",
     "text": [
      "\u001b[34m\n",
      "\u001b[0m\u001b[34m\n",
      "\u001b[0m\u001b[32m\n",
      "\u001b[0m\u001b[34mDeep\u001b[0m\u001b[32m\n",
      "\u001b[0m\u001b[32mDeep\u001b[0m\u001b[34m learning\u001b[0m\u001b[32m learning\u001b[0m\u001b[34m is\u001b[0m\u001b[32m is\u001b[0m\u001b[32m a\u001b[0m\u001b[32m subset\u001b[0m\u001b[32m of\u001b[0m\u001b[32m machine\u001b[0m\u001b[32m learning\u001b[0m\u001b[34m a\u001b[0m\u001b[34m subset\u001b[0m\u001b[34m of\u001b[0m\u001b[34m machine\u001b[0m\u001b[34m learning\u001b[0m\u001b[31m\n",
      "\u001b[0m\u001b[31m\n",
      "\u001b[0m\u001b[31mDeep\u001b[0m\u001b[31m learning\u001b[0m\u001b[31m is\u001b[0m\u001b[31m a\u001b[0m\u001b[31m subset\u001b[0m\u001b[31m of\u001b[0m\u001b[31m machine\u001b[0m\u001b[31m learning\u001b[0m\u001b[31m that\u001b[0m\u001b[31m uses\u001b[0m\u001b[31m artificial\u001b[0m\u001b[31m neural\u001b[0m\u001b[31m networks\u001b[0m\u001b[31m to\u001b[0m\u001b[31m learn\u001b[0m\u001b[31m from\u001b[0m\u001b[31m data\u001b[0m\u001b[31m.\u001b[0m\u001b[31m It\u001b[0m\u001b[31m is\u001b[0m\u001b[31m a\u001b[0m\u001b[31m powerful\u001b[0m\u001b[31m tool\u001b[0m\u001b[31m that\u001b[0m\u001b[31m can\u001b[0m\u001b[31m be\u001b[0m\u001b[31m used\u001b[0m\u001b[31m to\u001b[0m\u001b[31m solve\u001b[0m\u001b[31m complex\u001b[0m\u001b[31m problems\u001b[0m\u001b[31m and\u001b[0m\u001b[31m make\u001b[0m\u001b[31m predictions\u001b[0m\u001b[31m.\u001b[0m\u001b[31m\n",
      "\u001b[0m\u001b[31m\n",
      "\u001b[0m\u001b[31mWhat\u001b[0m\u001b[31m are\u001b[0m\u001b[31m the\u001b[0m\u001b[31m benefits\u001b[0m\u001b[31m of\u001b[0m\u001b[31m deep\u001b[0m\u001b[31m learning\u001b[0m\u001b[31m?\u001b[0m\u001b[31m\n",
      "\u001b[0m\u001b[31m\n",
      "\u001b[0m\u001b[31mDeep\u001b[0m\u001b[31m learning\u001b[0m\u001b[31m has\u001b[0m\u001b[31m many\u001b[0m\u001b[31m benefits\u001b[0m\u001b[31m,\u001b[0m\u001b[31m including\u001b[0m\u001b[31m the\u001b[0m\u001b[31m ability\u001b[0m\u001b[31m to\u001b[0m\u001b[31m:\u001b[0m\u001b[31m\n",
      "\u001b[0m\u001b[31m\n",
      "\u001b[0m\u001b[31m-\u001b[0m\u001b[31mMake\u001b[0m\u001b[31m predictions\u001b[0m\u001b[31m\n",
      "\u001b[0m\u001b[31m\n",
      "\u001b[0m\u001b[31m-\u001b[0m\u001b[31mS\u001b[0m\u001b[31molve\u001b[0m\u001b[31m complex\u001b[0m\u001b[31m problems\u001b[0m\u001b[31m\n",
      "\u001b[0m\u001b[31m\n",
      "\u001b[0m\u001b[31m-\u001b[0m\u001b[31mL\u001b[0m\u001b[31mear\u001b[0m\u001b[31mn\u001b[0m\u001b[31m from\u001b[0m\u001b[31m data\u001b[0m\u001b[31m\n",
      "\u001b[0m\u001b[31m\n",
      "\u001b[0m\u001b[31m-\u001b[0m\u001b[31mIm\u001b[0m\u001b[31mpro\u001b[0m\u001b[31mve\u001b[0m\u001b[31m accuracy\u001b[0m\u001b[31m\n",
      "\u001b[0m\u001b[31m\n",
      "\u001b[0m\u001b[31m-\u001b[0m\u001b[31mRed\u001b[0m\u001b[31muce\u001b[0m\u001b[31m bias\u001b[0m\u001b[31m\n",
      "\u001b[0m\u001b[31m\n",
      "\u001b[0m\u001b[31m-\u001b[0m\u001b[31mIn\u001b[0m\u001b[31mcre\u001b[0m\u001b[31mase\u001b[0m\u001b[31m efficiency\u001b[0m\n",
      "\n",
      "\n",
      "----------\n",
      "Time to first token (TTFT) (s): [0.4239628314971924, 0.3092198371887207, 0.2458968162536621]\n",
      "Throughput (tok / s): [73.73928609101748, 122.94883854241307, 59.56887418159094]\n",
      "Total duration (s): 1.8057630062103271\n"
     ]
    }
   ],
   "source": [
    "async_client = AsyncClient(endpoint_url, headers=headers)\n",
    "\n",
    "\n",
    "durations_s = [[], [], []]\n",
    "\n",
    "\n",
    "async def run(max_new_tokens, i):\n",
    "    t0 = time.time()\n",
    "    async for resp in async_client.generate_stream(\"What is deep learning?\", max_new_tokens=max_new_tokens):\n",
    "        durations_s[i].append(time.time() - t0)\n",
    "        print(format_text(resp.token.text, i), sep=\"\", end=\"\", flush=True)\n",
    "        t0 = time.time()\n",
    "\n",
    "\n",
    "t0 = time.time()\n",
    "all_max_new_tokens = [100, 10, 10]\n",
    "await asyncio.gather(*[run(max_new_tokens, i) for i, max_new_tokens in enumerate(all_max_new_tokens)]) \n",
    "\n",
    "print(\"\\n\\n\\n----------\")\n",
    "print(\"Time to first token (TTFT) (s):\", [s[0] for s in durations_s])\n",
    "print(\"Throughput (tok / s):\", [(len(s) - 1) / sum(s[1:]) for s in durations_s])\n",
    "print(\"Total duration (s):\", time.time() - t0)"
   ]
  },
  {
   "cell_type": "markdown",
   "id": "2e2f37bf",
   "metadata": {},
   "source": [
    "## Multi-LoRA"
   ]
  },
  {
   "cell_type": "code",
   "execution_count": 9,
   "id": "f09a9304",
   "metadata": {
    "height": 338
   },
   "outputs": [],
   "source": [
    "def run_with_adapter(prompt, adapter_id):\n",
    "    durations_s = []\n",
    "\n",
    "    t0 = time.time()\n",
    "    for resp in client.generate_stream(\n",
    "        prompt, \n",
    "        adapter_id=adapter_id,\n",
    "        adapter_source=\"hub\",\n",
    "        max_new_tokens=64,\n",
    "    ):\n",
    "        durations_s.append(time.time() - t0)\n",
    "        if not resp.token.special:\n",
    "            print(resp.token.text, sep=\"\", end=\"\", flush=True)\n",
    "        t0 = time.time()\n",
    "\n",
    "    print(\"\\n\\n\\n----------\")\n",
    "    print(\"Time to first token (TTFT) (s):\", durations_s[0])\n",
    "    print(\"Throughput (tok / s):\", (len(durations_s) - 1) / sum(durations_s[1:]))"
   ]
  },
  {
   "cell_type": "code",
   "execution_count": 10,
   "id": "1e191cbf",
   "metadata": {
    "height": 321
   },
   "outputs": [
    {
     "name": "stdout",
     "output_type": "stream",
     "text": [
      " are running around the field.\n",
      "\n",
      "\n",
      "----------\n",
      "Time to first token (TTFT) (s): 0.2438361644744873\n",
      "Throughput (tok / s): 47.09352418745579\n"
     ]
    }
   ],
   "source": [
    "pt_hellaswag_processed = \\\n",
    "\"\"\"You are provided with an incomplete passage below. Please read the passage and then finish it with an appropriate response. For example:\n",
    "\n",
    "### Passage: My friend and I think alike. We\n",
    "\n",
    "### Ending: often finish each other's sentences.\n",
    "\n",
    "Now please finish the following passage:\n",
    "\n",
    "### Passage: {ctx}\n",
    "\n",
    "### Ending: \"\"\"\n",
    "\n",
    "ctx = \"Numerous people are watching others on a field. Trainers are playing frisbee with their dogs. the dogs\"\n",
    "\n",
    "\n",
    "run_with_adapter(pt_hellaswag_processed.format(ctx=ctx), adapter_id=\"predibase/hellaswag_processed\")"
   ]
  },
  {
   "cell_type": "code",
   "execution_count": 11,
   "id": "bb0ad965",
   "metadata": {
    "height": 219
   },
   "outputs": [
    {
     "name": "stdout",
     "output_type": "stream",
     "text": [
      " Mondale was admitted to the Mayo Clinic on Friday . He was diagnosed with influenza after a routine checkup . He is expected to return home soon .\n",
      "\n",
      "\n",
      "----------\n",
      "Time to first token (TTFT) (s): 0.23698735237121582\n",
      "Throughput (tok / s): 54.630049559435506\n"
     ]
    }
   ],
   "source": [
    "pt_cnn = \\\n",
    "\"\"\"You are given a news article below. Please summarize the article, including only its highlights.\n",
    "\n",
    "### Article: {article}\n",
    "\n",
    "### Summary: \"\"\"\n",
    "\n",
    "article = \"(CNN)Former Vice President Walter Mondale was released from the Mayo Clinic on Saturday after being admitted with influenza, hospital spokeswoman Kelley Luckstein said. \\\"He's doing well. We treated him for flu and cold symptoms and he was released today,\\\" she said. Mondale, 87, was diagnosed after he went to the hospital for a routine checkup following a fever, former President Jimmy Carter said Friday. \\\"He is in the bed right this moment, but looking forward to come back home,\\\" Carter said during a speech at a Nobel Peace Prize Forum in Minneapolis. \\\"He said tell everybody he is doing well.\\\" Mondale underwent treatment at the Mayo Clinic in Rochester, Minnesota. The 42nd vice president served under Carter between 1977 and 1981, and later ran for President, but lost to Ronald Reagan. But not before he made history by naming a woman, U.S. Rep. Geraldine A. Ferraro of New York, as his running mate. Before that, the former lawyer was  a U.S. senator from Minnesota. His wife, Joan Mondale, died last year.\"\n",
    "\n",
    "\n",
    "run_with_adapter(pt_cnn.format(article=article), adapter_id=\"predibase/cnn\")"
   ]
  },
  {
   "cell_type": "code",
   "execution_count": 12,
   "id": "c908562c",
   "metadata": {
    "height": 321
   },
   "outputs": [
    {
     "name": "stdout",
     "output_type": "stream",
     "text": [
      " {\"person\": [\"Fischler\"], \"organization\": [], \"location\": [\"France\", \"Britain\"], \"miscellaneous\": []}\n",
      "\n",
      "\n",
      "----------\n",
      "Time to first token (TTFT) (s): 0.23740363121032715\n",
      "Throughput (tok / s): 54.16591277092673\n"
     ]
    }
   ],
   "source": [
    "pt_conllpp = \"\"\"\n",
    "Your task is a Named Entity Recognition (NER) task. Predict the category of\n",
    "each entity, then place the entity into the list associated with the \n",
    "category in an output JSON payload. Below is an example:\n",
    "\n",
    "Input: EU rejects German call to boycott British lamb . Output: {{\"person\":\n",
    "[], \"organization\": [\"EU\"], \"location\": [], \"miscellaneous\": [\"German\",\n",
    "\"British\"]}}\n",
    "\n",
    "Now, complete the task.\n",
    "\n",
    "Input: {inpt} Output:\"\"\"\n",
    "\n",
    "inpt = \"Only France and Britain backed Fischler 's proposal .\"\n",
    "\n",
    "\n",
    "run_with_adapter(pt_conllpp.format(inpt=inpt), adapter_id=\"predibase/conllpp\")"
   ]
  },
  {
   "cell_type": "code",
   "execution_count": 13,
   "id": "e4cc6add",
   "metadata": {
    "height": 559
   },
   "outputs": [
    {
     "name": "stdout",
     "output_type": "stream",
     "text": [
      "\u001b[32m Mond\u001b[0m\u001b[32male\u001b[0m\u001b[31m are\u001b[0m\u001b[31m running\u001b[0m\u001b[31m around\u001b[0m\u001b[32m was\u001b[0m\u001b[32m admitted\u001b[0m\u001b[32m to\u001b[0m\u001b[32m the\u001b[0m\u001b[31m the\u001b[0m\u001b[31m field\u001b[0m\u001b[31m.\u001b[0m\u001b[32m May\u001b[0m\u001b[32mo\u001b[0m\u001b[34m {\"\u001b[0m\u001b[34mperson\u001b[0m\u001b[32m Clin\u001b[0m\u001b[32mic\u001b[0m\u001b[32m on\u001b[0m\u001b[34m\":\u001b[0m\u001b[34m [\"\u001b[0m\u001b[34mF\u001b[0m\u001b[34misch\u001b[0m\u001b[32m Friday\u001b[0m\u001b[32m .\u001b[0m\u001b[32m He\u001b[0m\u001b[34mler\u001b[0m\u001b[34m\"],\u001b[0m\u001b[34m \"\u001b[0m\u001b[32m was\u001b[0m\u001b[32m diagnosed\u001b[0m\u001b[32m with\u001b[0m\u001b[32m influ\u001b[0m\u001b[34morgan\u001b[0m\u001b[34mization\u001b[0m\u001b[34m\":\u001b[0m\u001b[34m [],\u001b[0m\u001b[34m \"\u001b[0m\u001b[32menza\u001b[0m\u001b[32m after\u001b[0m\u001b[32m a\u001b[0m\u001b[32m routine\u001b[0m\u001b[34mlocation\u001b[0m\u001b[34m\":\u001b[0m\u001b[34m [\"\u001b[0m\u001b[34mFr\u001b[0m\u001b[32m check\u001b[0m\u001b[32mup\u001b[0m\u001b[32m .\u001b[0m\u001b[32m He\u001b[0m\u001b[32m is\u001b[0m\u001b[34mance\u001b[0m\u001b[34m\",\u001b[0m\u001b[34m \"\u001b[0m\u001b[34mB\u001b[0m\u001b[32m expected\u001b[0m\u001b[32m to\u001b[0m\u001b[32m return\u001b[0m\u001b[32m home\u001b[0m\u001b[32m soon\u001b[0m\u001b[34mrit\u001b[0m\u001b[34main\u001b[0m\u001b[34m\"],\u001b[0m\u001b[34m \"\u001b[0m\u001b[34mm\u001b[0m\u001b[32m .\u001b[0m\u001b[34mis\u001b[0m\u001b[34mcell\u001b[0m\u001b[34maneous\u001b[0m\u001b[34m\":\u001b[0m\u001b[34m []\u001b[0m\u001b[34m}\u001b[0m\n",
      "\n",
      "\n",
      "----------\n",
      "Time to first token (TTFT) (s): [0.2720015048980713, 0.24322223663330078, 0.4646892547607422]\n",
      "Throughput (tok / s): [34.63259413041427, 43.471444858343034, 50.4683102466998]\n",
      "Total duration (s): 1.1557486057281494\n"
     ]
    }
   ],
   "source": [
    "durations_s = [[], [], []]\n",
    "\n",
    "\n",
    "async def run(prompt, adapter_id, i):\n",
    "    t0 = time.time()\n",
    "    async for resp in async_client.generate_stream(\n",
    "        prompt, \n",
    "        adapter_id=adapter_id,\n",
    "        adapter_source=\"hub\",\n",
    "        max_new_tokens=64,\n",
    "    ):\n",
    "        durations_s[i].append(time.time() - t0)\n",
    "        if not resp.token.special:\n",
    "            print(format_text(resp.token.text, i), sep=\"\", end=\"\", flush=True)\n",
    "        t0 = time.time()\n",
    "\n",
    "\n",
    "t0 = time.time()\n",
    "prompts = [\n",
    "    pt_hellaswag_processed.format(ctx=ctx),\n",
    "    pt_cnn.format(article=article),\n",
    "    pt_conllpp.format(inpt=inpt),\n",
    "]\n",
    "adapter_ids = [\"predibase/hellaswag_processed\", \"predibase/cnn\", \"predibase/conllpp\"]\n",
    "await asyncio.gather(*[run(prompt, adapter_id, i) \n",
    "                       for i, (prompt, adapter_id) in enumerate(zip(prompts, adapter_ids))]) \n",
    "\n",
    "print(\"\\n\\n\\n----------\")\n",
    "print(\"Time to first token (TTFT) (s):\", [s[0] for s in durations_s])\n",
    "print(\"Throughput (tok / s):\", [(len(s) - 1) / sum(s[1:]) for s in durations_s])\n",
    "print(\"Total duration (s):\", time.time() - t0)"
   ]
  },
  {
   "cell_type": "markdown",
   "id": "ed936723",
   "metadata": {},
   "source": [
    "## Bonus: Structured Generation"
   ]
  },
  {
   "cell_type": "code",
   "execution_count": 14,
   "id": "00431323",
   "metadata": {
    "height": 149
   },
   "outputs": [
    {
     "data": {
      "text/plain": [
       "{'title': 'Person',\n",
       " 'type': 'object',\n",
       " 'properties': {'name': {'title': 'Name', 'maxLength': 10, 'type': 'string'},\n",
       "  'age': {'title': 'Age', 'type': 'integer'}},\n",
       " 'required': ['name', 'age']}"
      ]
     },
     "execution_count": 14,
     "metadata": {},
     "output_type": "execute_result"
    }
   ],
   "source": [
    "from pydantic import BaseModel, constr\n",
    "\n",
    "class Person(BaseModel):\n",
    "    name: constr(max_length=10)\n",
    "    age: int\n",
    "\n",
    "schema = Person.schema()\n",
    "schema"
   ]
  },
  {
   "cell_type": "code",
   "execution_count": 15,
   "id": "08b706aa",
   "metadata": {
    "height": 98
   },
   "outputs": [
    {
     "data": {
      "text/plain": [
       "{'name': 'John Doe', 'age': 30}"
      ]
     },
     "execution_count": 15,
     "metadata": {},
     "output_type": "execute_result"
    }
   ],
   "source": [
    "resp = client.generate(\n",
    "    \"Create a person description for me\", \n",
    "    response_format={\"type\": \"json_object\", \"schema\": schema}\n",
    ")\n",
    "json.loads(resp.generated_text)"
   ]
  },
  {
   "cell_type": "code",
   "execution_count": 16,
   "id": "15870540",
   "metadata": {
    "height": 355
   },
   "outputs": [
    {
     "data": {
      "text/plain": [
       "'{\"person\":\\n[\"Fischler\"], \"organization\": [\"France\", \"Britain\"], \"location\": [],\\n\"miscellaneous\": []}\\n\\nInput: The EU has agreed to a 10-year extension of the ban on the use of\\nhormones in beef . Output: {\"person\": [], \"organization\": [\"EU\"],\\n\"location\": [], \"miscellaneous\": [\"hormones\", \"beef\"]}\\n\\nInput: The EU has agreed to a 10-year extension of the ban on the use of\\nhormones in'"
      ]
     },
     "execution_count": 16,
     "metadata": {},
     "output_type": "execute_result"
    }
   ],
   "source": [
    "prompt_template = \"\"\"\n",
    "Your task is a Named Entity Recognition (NER) task. Predict the category of\n",
    "each entity, then place the entity into the list associated with the \n",
    "category in an output JSON payload. Below is an example:\n",
    "\n",
    "Input: EU rejects German call to boycott British lamb . Output: {{\"person\":\n",
    "[], \"organization\": [\"EU\"], \"location\": [], \"miscellaneous\": [\"German\",\n",
    "\"British\"]}}\n",
    "\n",
    "Now, complete the task.\n",
    "\n",
    "Input: {input} Output:\"\"\"\n",
    "\n",
    "# Base Mistral-7B\n",
    "resp = client.generate(\n",
    "    prompt_template.format(input=\"Only France and Britain backed Fischler 's proposal .\"),  \n",
    "    max_new_tokens=128,\n",
    ")\n",
    "resp.generated_text"
   ]
  },
  {
   "cell_type": "code",
   "execution_count": 17,
   "id": "65923d86",
   "metadata": {
    "height": 183
   },
   "outputs": [
    {
     "data": {
      "text/plain": [
       "{'title': 'Output',\n",
       " 'type': 'object',\n",
       " 'properties': {'person': {'title': 'Person',\n",
       "   'type': 'array',\n",
       "   'items': {'type': 'string'}},\n",
       "  'organization': {'title': 'Organization',\n",
       "   'type': 'array',\n",
       "   'items': {'type': 'string'}},\n",
       "  'location': {'title': 'Location',\n",
       "   'type': 'array',\n",
       "   'items': {'type': 'string'}},\n",
       "  'miscellaneous': {'title': 'Miscellaneous',\n",
       "   'type': 'array',\n",
       "   'items': {'type': 'string'}}},\n",
       " 'required': ['person', 'organization', 'location', 'miscellaneous']}"
      ]
     },
     "execution_count": 17,
     "metadata": {},
     "output_type": "execute_result"
    }
   ],
   "source": [
    "from typing import List\n",
    "\n",
    "class Output(BaseModel):\n",
    "    person: List[str]\n",
    "    organization: List[str]\n",
    "    location: List[str]\n",
    "    miscellaneous: List[str]\n",
    "\n",
    "schema = Output.schema()\n",
    "schema"
   ]
  },
  {
   "cell_type": "code",
   "execution_count": 18,
   "id": "a29a1eb2",
   "metadata": {
    "height": 185
   },
   "outputs": [
    {
     "data": {
      "text/plain": [
       "{'person': ['Fischler'],\n",
       " 'organization': ['France', 'Britain'],\n",
       " 'location': [],\n",
       " 'miscellaneous': []}"
      ]
     },
     "execution_count": 18,
     "metadata": {},
     "output_type": "execute_result"
    }
   ],
   "source": [
    "resp = client.generate(\n",
    "    prompt_template.format(input=\"Only France and Britain backed Fischler 's proposal .\"),\n",
    "    response_format={\n",
    "        \"type\": \"json_object\",\n",
    "        \"schema\": schema,\n",
    "    },\n",
    "    max_new_tokens=128,\n",
    ")\n",
    "json.loads(resp.generated_text)"
   ]
  },
  {
   "cell_type": "code",
   "execution_count": 19,
   "id": "4c56fca8",
   "metadata": {
    "height": 151
   },
   "outputs": [
    {
     "data": {
      "text/plain": [
       "{'person': ['Fischler'],\n",
       " 'organization': [],\n",
       " 'location': ['France', 'Britain'],\n",
       " 'miscellaneous': []}"
      ]
     },
     "execution_count": 19,
     "metadata": {},
     "output_type": "execute_result"
    }
   ],
   "source": [
    "resp = client.generate(\n",
    "    prompt_template.format(input=\"Only France and Britain backed Fischler 's proposal .\"),\n",
    "    adapter_id=\"predibase/conllpp\",\n",
    "    adapter_source=\"hub\",\n",
    "    max_new_tokens=128,\n",
    ")\n",
    "json.loads(resp.generated_text)"
   ]
  },
  {
   "cell_type": "markdown",
   "id": "ee30357c",
   "metadata": {},
   "source": [
    "## Additional Predibase Resources: \n",
    "\n",
    "- LoRA Land demo environment: https://predibase.com/lora-land \n",
    "- Predibase blog articles: https://predibase.com/blog \n",
    "- LoRAX Github repo: https://github.com/predibase/lorax \n"
   ]
  }
 ],
 "metadata": {
  "kernelspec": {
   "display_name": "Python 3 (ipykernel)",
   "language": "python",
   "name": "python3"
  },
  "language_info": {
   "codemirror_mode": {
    "name": "ipython",
    "version": 3
   },
   "file_extension": ".py",
   "mimetype": "text/x-python",
   "name": "python",
   "nbconvert_exporter": "python",
   "pygments_lexer": "ipython3",
   "version": "3.11.8"
  }
 },
 "nbformat": 4,
 "nbformat_minor": 5
}
